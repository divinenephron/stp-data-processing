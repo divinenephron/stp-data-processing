{
 "cells": [
  {
   "cell_type": "markdown",
   "metadata": {},
   "source": [
    "Scenario 1\n",
    "====\n",
    "\n",
    "Instructions\n",
    "----\n",
    "The reference ranges for the Blood Science Lab need to be audited. The potassium reference range is usually calculated using data from general practices, so please can you calculate this using requests from 2018.\n",
    "\n",
    "Load data\n",
    "----"
   ]
  },
  {
   "cell_type": "code",
   "execution_count": null,
   "metadata": {},
   "outputs": [],
   "source": [
    "# First select this box and press shift-enter to load the data\n",
    "suppressMessages(library(tidyverse))\n",
    "data <- read.csv(\"data/scenario_1.csv\")"
   ]
  },
  {
   "cell_type": "markdown",
   "metadata": {},
   "source": [
    "Code\n",
    "----"
   ]
  },
  {
   "cell_type": "code",
   "execution_count": null,
   "metadata": {},
   "outputs": [],
   "source": [
    "# Edit this code then press shift-enter to run it\n",
    "data"
   ]
  }
 ],
 "metadata": {
  "kernelspec": {
   "display_name": "R",
   "language": "R",
   "name": "ir"
  },
  "language_info": {
   "codemirror_mode": "r",
   "file_extension": ".r",
   "mimetype": "text/x-r-source",
   "name": "R",
   "pygments_lexer": "r",
   "version": "3.4.3"
  }
 },
 "nbformat": 4,
 "nbformat_minor": 2
}
