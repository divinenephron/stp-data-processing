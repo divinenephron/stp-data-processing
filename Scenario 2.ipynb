{
 "cells": [
  {
   "cell_type": "markdown",
   "metadata": {},
   "source": [
    "Scenario 2\n",
    "====\n",
    "\n",
    "Instructions\n",
    "----\n",
    "The metabolic section are considering offering a disialotransferrin assay instead of a carbohydrate deficient transferrin (CDT) assay to detect heavy alcohol use. Both of these are quantified by the current electrophoresis method, though only CDT is reported. Please compare these measurements using a backup of last week’s results.\n",
    "\n",
    "Load data\n",
    "----"
   ]
  },
  {
   "cell_type": "code",
   "execution_count": null,
   "metadata": {},
   "outputs": [],
   "source": [
    "# Select this box and press shift-enter to load the data\n",
    "suppressMessages(library(tidyverse))\n",
    "data <- read.csv(\"data/scenario_2.csv\")"
   ]
  },
  {
   "cell_type": "markdown",
   "metadata": {},
   "source": [
    "Code\n",
    "----"
   ]
  },
  {
   "cell_type": "code",
   "execution_count": null,
   "metadata": {},
   "outputs": [],
   "source": [
    "# Edit this code then press shift-enter to run it\n",
    "data"
   ]
  }
 ],
 "metadata": {
  "kernelspec": {
   "display_name": "R",
   "language": "R",
   "name": "ir"
  },
  "language_info": {
   "codemirror_mode": "r",
   "file_extension": ".r",
   "mimetype": "text/x-r-source",
   "name": "R",
   "pygments_lexer": "r",
   "version": "3.4.3"
  }
 },
 "nbformat": 4,
 "nbformat_minor": 2
}
