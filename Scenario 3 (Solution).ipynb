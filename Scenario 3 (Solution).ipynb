{
 "cells": [
  {
   "cell_type": "markdown",
   "metadata": {},
   "source": [
    "Scenario 3\n",
    "====\n",
    "\n",
    "Instructions\n",
    "----\n",
    "To improve the quality control, the Steroids Section would like to keep records of drifts in the peak are of the internal standard for the 17-hydroxy progesterone assay. Please calculate the mean and standard deviation of peak area of internal standard for each weekly run for the past three months.\n",
    "\n",
    "Load data\n",
    "----"
   ]
  },
  {
   "cell_type": "code",
   "execution_count": 2,
   "metadata": {},
   "outputs": [
    {
     "name": "stderr",
     "output_type": "stream",
     "text": [
      "Warning message:\n",
      "“package ‘ggplot2’ was built under R version 3.4.4”Warning message:\n",
      "“package ‘tidyr’ was built under R version 3.4.4”Warning message:\n",
      "“package ‘purrr’ was built under R version 3.4.4”Warning message:\n",
      "“package ‘dplyr’ was built under R version 3.4.4”Warning message:\n",
      "“package ‘stringr’ was built under R version 3.4.4”"
     ]
    }
   ],
   "source": [
    "# First select this box and press shift-enter to load the data\n",
    "suppressMessages(library(tidyverse))\n",
    "data <- read.csv(\"data/scenario_3.csv\")"
   ]
  },
  {
   "cell_type": "markdown",
   "metadata": {},
   "source": [
    "Code\n",
    "----"
   ]
  },
  {
   "cell_type": "code",
   "execution_count": 4,
   "metadata": {},
   "outputs": [
    {
     "data": {
      "text/html": [
       "<table>\n",
       "<thead><tr><th scope=col>date</th><th scope=col>mean</th><th scope=col>sd</th></tr></thead>\n",
       "<tbody>\n",
       "\t<tr><td>2018-11-07</td><td> 67.72485 </td><td>3.169275  </td></tr>\n",
       "\t<tr><td>2018-11-14</td><td> 85.71192 </td><td>4.663123  </td></tr>\n",
       "\t<tr><td>2018-11-21</td><td>109.58159 </td><td>5.780688  </td></tr>\n",
       "\t<tr><td>2018-11-28</td><td> 65.36040 </td><td>3.048896  </td></tr>\n",
       "\t<tr><td>2018-12-05</td><td> 92.42199 </td><td>3.004800  </td></tr>\n",
       "\t<tr><td>2018-12-12</td><td>131.67461 </td><td>7.750862  </td></tr>\n",
       "\t<tr><td>2018-12-19</td><td> 98.27185 </td><td>5.634938  </td></tr>\n",
       "\t<tr><td>2018-12-26</td><td> 84.92900 </td><td>6.092561  </td></tr>\n",
       "\t<tr><td>2019-01-02</td><td> 76.55906 </td><td>4.036325  </td></tr>\n",
       "\t<tr><td>2019-01-09</td><td>103.81500 </td><td>3.865770  </td></tr>\n",
       "\t<tr><td>2019-01-16</td><td>100.54951 </td><td>5.684727  </td></tr>\n",
       "\t<tr><td>2019-01-23</td><td>105.81362 </td><td>4.686687  </td></tr>\n",
       "\t<tr><td>2019-01-30</td><td> 86.33791 </td><td>4.600717  </td></tr>\n",
       "\t<tr><td>2019-02-06</td><td>113.32896 </td><td>5.044916  </td></tr>\n",
       "\t<tr><td>2019-02-13</td><td> 76.37257 </td><td>3.212685  </td></tr>\n",
       "\t<tr><td>2019-02-20</td><td>111.58556 </td><td>4.574463  </td></tr>\n",
       "\t<tr><td>2019-02-27</td><td> 53.67856 </td><td>2.876166  </td></tr>\n",
       "</tbody>\n",
       "</table>\n"
      ],
      "text/latex": [
       "\\begin{tabular}{r|lll}\n",
       " date & mean & sd\\\\\n",
       "\\hline\n",
       "\t 2018-11-07 &  67.72485  & 3.169275  \\\\\n",
       "\t 2018-11-14 &  85.71192  & 4.663123  \\\\\n",
       "\t 2018-11-21 & 109.58159  & 5.780688  \\\\\n",
       "\t 2018-11-28 &  65.36040  & 3.048896  \\\\\n",
       "\t 2018-12-05 &  92.42199  & 3.004800  \\\\\n",
       "\t 2018-12-12 & 131.67461  & 7.750862  \\\\\n",
       "\t 2018-12-19 &  98.27185  & 5.634938  \\\\\n",
       "\t 2018-12-26 &  84.92900  & 6.092561  \\\\\n",
       "\t 2019-01-02 &  76.55906  & 4.036325  \\\\\n",
       "\t 2019-01-09 & 103.81500  & 3.865770  \\\\\n",
       "\t 2019-01-16 & 100.54951  & 5.684727  \\\\\n",
       "\t 2019-01-23 & 105.81362  & 4.686687  \\\\\n",
       "\t 2019-01-30 &  86.33791  & 4.600717  \\\\\n",
       "\t 2019-02-06 & 113.32896  & 5.044916  \\\\\n",
       "\t 2019-02-13 &  76.37257  & 3.212685  \\\\\n",
       "\t 2019-02-20 & 111.58556  & 4.574463  \\\\\n",
       "\t 2019-02-27 &  53.67856  & 2.876166  \\\\\n",
       "\\end{tabular}\n"
      ],
      "text/markdown": [
       "\n",
       "date | mean | sd | \n",
       "|---|---|---|---|---|---|---|---|---|---|---|---|---|---|---|---|---|\n",
       "| 2018-11-07 |  67.72485  | 3.169275   | \n",
       "| 2018-11-14 |  85.71192  | 4.663123   | \n",
       "| 2018-11-21 | 109.58159  | 5.780688   | \n",
       "| 2018-11-28 |  65.36040  | 3.048896   | \n",
       "| 2018-12-05 |  92.42199  | 3.004800   | \n",
       "| 2018-12-12 | 131.67461  | 7.750862   | \n",
       "| 2018-12-19 |  98.27185  | 5.634938   | \n",
       "| 2018-12-26 |  84.92900  | 6.092561   | \n",
       "| 2019-01-02 |  76.55906  | 4.036325   | \n",
       "| 2019-01-09 | 103.81500  | 3.865770   | \n",
       "| 2019-01-16 | 100.54951  | 5.684727   | \n",
       "| 2019-01-23 | 105.81362  | 4.686687   | \n",
       "| 2019-01-30 |  86.33791  | 4.600717   | \n",
       "| 2019-02-06 | 113.32896  | 5.044916   | \n",
       "| 2019-02-13 |  76.37257  | 3.212685   | \n",
       "| 2019-02-20 | 111.58556  | 4.574463   | \n",
       "| 2019-02-27 |  53.67856  | 2.876166   | \n",
       "\n",
       "\n"
      ],
      "text/plain": [
       "   date       mean      sd      \n",
       "1  2018-11-07  67.72485 3.169275\n",
       "2  2018-11-14  85.71192 4.663123\n",
       "3  2018-11-21 109.58159 5.780688\n",
       "4  2018-11-28  65.36040 3.048896\n",
       "5  2018-12-05  92.42199 3.004800\n",
       "6  2018-12-12 131.67461 7.750862\n",
       "7  2018-12-19  98.27185 5.634938\n",
       "8  2018-12-26  84.92900 6.092561\n",
       "9  2019-01-02  76.55906 4.036325\n",
       "10 2019-01-09 103.81500 3.865770\n",
       "11 2019-01-16 100.54951 5.684727\n",
       "12 2019-01-23 105.81362 4.686687\n",
       "13 2019-01-30  86.33791 4.600717\n",
       "14 2019-02-06 113.32896 5.044916\n",
       "15 2019-02-13  76.37257 3.212685\n",
       "16 2019-02-20 111.58556 4.574463\n",
       "17 2019-02-27  53.67856 2.876166"
      ]
     },
     "metadata": {},
     "output_type": "display_data"
    }
   ],
   "source": [
    "# Then select this box and press shift-enter to run it\n",
    "data %>%\n",
    "group_by(date) %>%\n",
    "summarise(mean = mean(internal_standard_area), sd = sd(internal_standard_area))"
   ]
  },
  {
   "cell_type": "code",
   "execution_count": null,
   "metadata": {},
   "outputs": [],
   "source": [
    "# To show the original data select this box and press shift-enter\n",
    "data"
   ]
  }
 ],
 "metadata": {
  "kernelspec": {
   "display_name": "R",
   "language": "R",
   "name": "ir"
  },
  "language_info": {
   "codemirror_mode": "r",
   "file_extension": ".r",
   "mimetype": "text/x-r-source",
   "name": "R",
   "pygments_lexer": "r",
   "version": "3.4.3"
  }
 },
 "nbformat": 4,
 "nbformat_minor": 2
}
