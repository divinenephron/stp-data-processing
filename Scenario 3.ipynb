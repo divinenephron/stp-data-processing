{
 "cells": [
  {
   "cell_type": "markdown",
   "metadata": {},
   "source": [
    "Scenario 3\n",
    "====\n",
    "\n",
    "Instructions\n",
    "----\n",
    "To improve the quality control, the Steroids Section would like to keep records of drifts in the peak are of the internal standard for the 17-hydroxy progesterone assay. Please calculate the mean and standard deviation of peak area of internal standard for each weekly run for the past three months.\n",
    "\n",
    "Load data\n",
    "----"
   ]
  },
  {
   "cell_type": "code",
   "execution_count": null,
   "metadata": {},
   "outputs": [],
   "source": [
    "# Select this box and press shift-enter to load the data\n",
    "suppressMessages(library(tidyverse))\n",
    "data <- read.csv(\"data/scenario_3.csv\")"
   ]
  },
  {
   "cell_type": "markdown",
   "metadata": {},
   "source": [
    "Code\n",
    "----"
   ]
  },
  {
   "cell_type": "code",
   "execution_count": null,
   "metadata": {},
   "outputs": [],
   "source": [
    "# Edit this code then press shift-enter to run it\n",
    "data"
   ]
  },
  {
   "cell_type": "code",
   "execution_count": null,
   "metadata": {},
   "outputs": [],
   "source": []
  }
 ],
 "metadata": {
  "kernelspec": {
   "display_name": "R",
   "language": "R",
   "name": "ir"
  },
  "language_info": {
   "codemirror_mode": "r",
   "file_extension": ".r",
   "mimetype": "text/x-r-source",
   "name": "R",
   "pygments_lexer": "r",
   "version": "3.4.3"
  }
 },
 "nbformat": 4,
 "nbformat_minor": 2
}
